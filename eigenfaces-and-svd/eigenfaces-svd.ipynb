{
 "cells": [
  {
   "cell_type": "code",
   "execution_count": 83,
   "metadata": {},
   "outputs": [],
   "source": [
    "import matplotlib.pyplot as plt\n",
    "import numpy as np\n",
    "import os\n",
    "import scipy.io\n",
    "\n",
    "%matplotlib widget\n",
    "\n",
    "plt.rcParams['figure.figsize'] = [8, 8]\n",
    "plt.rcParams.update({'font.size': 12})"
   ]
  },
  {
   "cell_type": "code",
   "execution_count": 84,
   "metadata": {},
   "outputs": [],
   "source": [
    "mat_contents = scipy.io.loadmat(os.path.join('..','DATA','allFaces.mat'))"
   ]
  },
  {
   "cell_type": "code",
   "execution_count": 85,
   "metadata": {},
   "outputs": [],
   "source": [
    "faces = mat_contents['faces']\n",
    "m = int(mat_contents['m'])\n",
    "n = int(mat_contents['n'])\n",
    "nfaces = np.ndarray.flatten(mat_contents['nfaces'])"
   ]
  },
  {
   "cell_type": "code",
   "execution_count": 86,
   "metadata": {},
   "outputs": [],
   "source": [
    "allfaces = faces[:,:np.sum(nfaces[:])]"
   ]
  },
  {
   "cell_type": "code",
   "execution_count": 87,
   "metadata": {},
   "outputs": [],
   "source": [
    "trainingFaces = faces[:,:np.sum(nfaces[:20])]"
   ]
  },
  {
   "cell_type": "code",
   "execution_count": 88,
   "metadata": {},
   "outputs": [],
   "source": [
    "avgFace = np.mean(trainingFaces,axis=1)"
   ]
  },
  {
   "cell_type": "code",
   "execution_count": 89,
   "metadata": {},
   "outputs": [
    {
     "data": {
      "application/vnd.jupyter.widget-view+json": {
       "model_id": "ff9a48c555654ca59e49391b0bec11bd",
       "version_major": 2,
       "version_minor": 0
      },
      "text/plain": [
       "Canvas(toolbar=Toolbar(toolitems=[('Home', 'Reset original view', 'home', 'home'), ('Back', 'Back to previous …"
      ]
     },
     "metadata": {},
     "output_type": "display_data"
    }
   ],
   "source": [
    "plt.close(\"all\")\n",
    "fig = plt.figure()\n",
    "fig.canvas.header_visible = False\n",
    "\n",
    "ax1 = fig.add_subplot(111)\n",
    "img_avg = ax1.imshow(np.reshape(avgFace,(m,n)).T)\n",
    "img_avg.set_cmap('gray')\n",
    "\n",
    "plt.axis('off')\n",
    "plt.show()"
   ]
  },
  {
   "cell_type": "code",
   "execution_count": 90,
   "metadata": {},
   "outputs": [],
   "source": [
    "X = trainingFaces - np.tile(avgFace,(trainingFaces.shape[1],1)).T"
   ]
  },
  {
   "cell_type": "code",
   "execution_count": 91,
   "metadata": {},
   "outputs": [],
   "source": [
    "U, S, VT = np.linalg.svd(X,full_matrices=0)"
   ]
  },
  {
   "cell_type": "code",
   "execution_count": 92,
   "metadata": {},
   "outputs": [
    {
     "data": {
      "application/vnd.jupyter.widget-view+json": {
       "model_id": "272dbfbb9031456c86565b64e19d22b7",
       "version_major": 2,
       "version_minor": 0
      },
      "text/plain": [
       "Canvas(toolbar=Toolbar(toolitems=[('Home', 'Reset original view', 'home', 'home'), ('Back', 'Back to previous …"
      ]
     },
     "metadata": {},
     "output_type": "display_data"
    }
   ],
   "source": [
    "plt.close(\"all\")\n",
    "fig = plt.figure()\n",
    "fig.canvas.header_visible = False\n",
    "\n",
    "ax1 = fig.add_subplot(121)\n",
    "ax2 = fig.add_subplot(122)\n",
    "\n",
    "ax1.semilogy(S,'-o', color='k', linewidth=2)\n",
    "ax2.plot(np.cumsum(np.diag(S))/np.sum(np.diag(S)))\n",
    "\n",
    "plt.show()"
   ]
  },
  {
   "cell_type": "code",
   "execution_count": 93,
   "metadata": {},
   "outputs": [
    {
     "data": {
      "application/vnd.jupyter.widget-view+json": {
       "model_id": "a2eb52622cd74303a2f073a4010bf0d3",
       "version_major": 2,
       "version_minor": 0
      },
      "text/plain": [
       "Canvas(toolbar=Toolbar(toolitems=[('Home', 'Reset original view', 'home', 'home'), ('Back', 'Back to previous …"
      ]
     },
     "metadata": {},
     "output_type": "display_data"
    }
   ],
   "source": [
    "# First Eigenface of U\n",
    "plt.close(\"all\")\n",
    "fig = plt.figure()\n",
    "fig.canvas.header_visible = False\n",
    "\n",
    "ax1= fig.add_subplot(1,1,1)\n",
    "img_avg = ax1.imshow(np.reshape(U[:,0],(m,n)).T)\n",
    "img_avg.set_cmap('gray')\n",
    "\n",
    "plt.axis('off')\n",
    "plt.show()"
   ]
  },
  {
   "cell_type": "code",
   "execution_count": 94,
   "metadata": {},
   "outputs": [],
   "source": [
    "testFace = faces[:,np.sum(nfaces[:36])] # First face of person 37\n",
    "testFaceMS = testFace - avgFace"
   ]
  },
  {
   "cell_type": "code",
   "execution_count": 95,
   "metadata": {},
   "outputs": [],
   "source": [
    "r_list = [25, 250, 500, 1500]\n",
    "Xhats = []\n",
    "\n",
    "for r in r_list:\n",
    "    Xhat = avgFace + U[:,:r] @ U[:,:r].T @ testFaceMS\n",
    "    Xhats.append(Xhat)  "
   ]
  },
  {
   "cell_type": "code",
   "execution_count": 96,
   "metadata": {},
   "outputs": [
    {
     "data": {
      "application/vnd.jupyter.widget-view+json": {
       "model_id": "c6b771b803d54d5fb4e8015901dffeda",
       "version_major": 2,
       "version_minor": 0
      },
      "text/plain": [
       "Canvas(toolbar=Toolbar(toolitems=[('Home', 'Reset original view', 'home', 'home'), ('Back', 'Back to previous …"
      ]
     },
     "metadata": {},
     "output_type": "display_data"
    }
   ],
   "source": [
    "plt.close(\"all\")\n",
    "\n",
    "fig, axes = plt.subplots(nrows=1, ncols=5)\n",
    "fig.canvas.header_visible = False\n",
    "ax0, ax1, ax2, ax3, ax4 = axes.flatten()\n",
    "\n",
    "img = ax0.imshow(np.reshape(testFaceMS,(m,n)).T)\n",
    "img.set_cmap('gray')\n",
    "ax0.axis('off')\n",
    "ax0.set_title(\"testimage\")\n",
    "\n",
    "img = ax1.imshow(np.reshape(Xhats[0],(m,n)).T)\n",
    "img.set_cmap('gray')\n",
    "ax1.axis('off')\n",
    "ax1.set_title('r = ' + str(r_list[0]))\n",
    "\n",
    "img = ax2.imshow(np.reshape(Xhats[1],(m,n)).T)\n",
    "img.set_cmap('gray')\n",
    "ax2.axis('off')\n",
    "ax2.set_title('r = ' + str(r_list[1]))\n",
    "\n",
    "img = ax3.imshow(np.reshape(Xhats[2],(m,n)).T)\n",
    "img.set_cmap('gray')\n",
    "ax3.axis('off')\n",
    "ax3.set_title('r = ' + str(r_list[2]))\n",
    "\n",
    "img = ax4.imshow(np.reshape(Xhats[3],(m,n)).T)\n",
    "img.set_cmap('gray')\n",
    "ax4.axis('off')\n",
    "ax4.set_title('r = ' + str(r_list[3]))\n",
    "\n",
    "plt.show()"
   ]
  },
  {
   "cell_type": "code",
   "execution_count": null,
   "metadata": {},
   "outputs": [],
   "source": []
  }
 ],
 "metadata": {
  "kernelspec": {
   "display_name": "Python 3",
   "language": "python",
   "name": "python3"
  },
  "language_info": {
   "codemirror_mode": {
    "name": "ipython",
    "version": 3
   },
   "file_extension": ".py",
   "mimetype": "text/x-python",
   "name": "python",
   "nbconvert_exporter": "python",
   "pygments_lexer": "ipython3",
   "version": "3.8.6"
  }
 },
 "nbformat": 4,
 "nbformat_minor": 4
}
