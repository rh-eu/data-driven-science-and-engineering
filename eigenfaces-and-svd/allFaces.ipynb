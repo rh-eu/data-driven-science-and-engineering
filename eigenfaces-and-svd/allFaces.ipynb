{
 "cells": [
  {
   "cell_type": "markdown",
   "metadata": {},
   "source": [
    "# Exploring the 'faces'-datafile\n",
    "\n",
    "The data can be downloaded from [the book's website](http://databookuw.com/)."
   ]
  },
  {
   "cell_type": "code",
   "execution_count": 31,
   "metadata": {},
   "outputs": [],
   "source": [
    "import matplotlib.pyplot as plt\n",
    "import numpy as np\n",
    "import os\n",
    "import scipy.io\n",
    "import imageio\n",
    "plt.rcParams['figure.figsize'] = [8, 8]\n",
    "plt.rcParams.update({'font.size': 18})"
   ]
  },
  {
   "cell_type": "code",
   "execution_count": 22,
   "metadata": {},
   "outputs": [
    {
     "name": "stdout",
     "output_type": "stream",
     "text": [
      "{'__header__': b'MATLAB 5.0 MAT-file, Platform: MACI64, Created on: Thu Sep  4 19:53:55 2014', '__version__': '1.0', '__globals__': [], 'faces': array([[80, 94, 59, ...,  3,  4,  4],\n",
      "       [81, 87, 67, ...,  4,  4,  3],\n",
      "       [80, 88, 66, ...,  2,  4,  4],\n",
      "       ...,\n",
      "       [14,  7,  6, ...,  0,  1,  1],\n",
      "       [14,  9,  6, ...,  1,  1,  0],\n",
      "       [11,  8,  7, ...,  1,  1,  2]], dtype=uint8), 'n': array([[192]], dtype=uint8), 'm': array([[168]], dtype=uint8), 'sub': array([[(array([[39]], dtype=uint8), array([[70, 84, 88, ...,  3,  4,  4],\n",
      "       [74, 83, 95, ...,  4,  4,  3],\n",
      "       [69, 82, 97, ...,  2,  4,  4],\n",
      "       ...,\n",
      "       [ 1,  2,  3, ...,  0,  1,  1],\n",
      "       [ 1,  3,  3, ...,  1,  1,  0],\n",
      "       [ 2,  2,  3, ...,  1,  1,  2]], dtype=uint8), array([[0, 0, 0, 0, 0, 0, 0, 0, 0, 0, 0, 0, 0, 0, 0, 0, 0, 0, 0, 0, 0, 0,\n",
      "        0, 0, 0, 0, 0, 0, 0, 0, 0, 0, 0, 0, 0, 0, 0, 0, 0, 0, 0, 0, 0, 0,\n",
      "        0, 0, 0, 0, 0, 0, 0, 0, 0, 0, 0, 0, 0, 0, 0, 0, 0, 0, 0, 0]],\n",
      "      dtype=uint8), array([[   0,    0,    0,    0,    0,    0,    5,    5,   10,   10,   15,\n",
      "          20,   20,   20,   25,   35,   35,   35,   35,   50,   50,   60,\n",
      "          60,   70,   70,   70,   85,   85,   95,  110,  110,  110,  110,\n",
      "         120,  130,   -5,   -5,  -10,  -10,  -15,  -20,  -20,  -20,  -25,\n",
      "         -35,  -35,  -35,  -35,  -50,  -50,  -60,  -60,  -70,  -70,  -70,\n",
      "         -85,  -85,  -95, -110, -110, -110, -110, -120, -130]],\n",
      "      dtype=int16), array([[  0,  20,  45,  90, -20, -35,  10, -10,   0, -20,  20,  10, -10,\n",
      "        -40,   0,  15,  40,  65, -20,   0, -40,  20, -20,   0,  45, -35,\n",
      "         20, -20,   0,  15,  40,  65, -20,   0,  20,  10, -10,   0, -20,\n",
      "         20,  10, -10, -40,   0,  15,  40,  65, -20,   0, -40,  20, -20,\n",
      "          0,  45, -35,  20, -20,   0,  15,  40,  65, -20,   0,  20]],\n",
      "      dtype=int16))]],\n",
      "      dtype=[('id', 'O'), ('faces', 'O'), ('pose', 'O'), ('azimuth', 'O'), ('elevation', 'O')]), 'nfaces': array([[64, 62, 64, 64, 62, 64, 64, 64, 64, 64, 60, 59, 60, 63, 62, 63,\n",
      "        63, 64, 64, 64, 64, 64, 64, 64, 64, 64, 64, 64, 64, 64, 64, 64,\n",
      "        64, 64, 64, 64, 64, 64]], dtype=uint8), 'person': array([[38]], dtype=uint8)}\n"
     ]
    }
   ],
   "source": [
    "# Load the datafile and show the data structure\n",
    "mat_contents = scipy.io.loadmat(os.path.join('..','data','allFaces.mat'))\n",
    "print(mat_contents)"
   ]
  },
  {
   "cell_type": "code",
   "execution_count": 23,
   "metadata": {},
   "outputs": [
    {
     "name": "stdout",
     "output_type": "stream",
     "text": [
      "[64 62 64 64 62 64 64 64 64 64 60 59 60 63 62 63 63 64 64 64 64 64 64 64\n",
      " 64 64 64 64 64 64 64 64 64 64 64 64 64 64]\n"
     ]
    }
   ],
   "source": [
    "# number of faces from the different persons\n",
    "nfaces = np.ndarray.flatten(mat_contents['nfaces'])\n",
    "print(nfaces)"
   ]
  },
  {
   "cell_type": "code",
   "execution_count": 24,
   "metadata": {},
   "outputs": [
    {
     "name": "stdout",
     "output_type": "stream",
     "text": [
      "We have  2410 faces (single pictures) from  [[38]] people\n"
     ]
    }
   ],
   "source": [
    "print(\"We have \", np.sum(nfaces[:]), \"faces (single pictures) from \", mat_contents['person'], \"people\")"
   ]
  },
  {
   "cell_type": "code",
   "execution_count": 25,
   "metadata": {},
   "outputs": [
    {
     "name": "stdout",
     "output_type": "stream",
     "text": [
      "Matrix:  192  x  168\n"
     ]
    }
   ],
   "source": [
    "# the faces are defined by a n x m matrix\n",
    "faces = mat_contents['faces']\n",
    "m = int(mat_contents['m'])\n",
    "n = int(mat_contents['n'])\n",
    "print(\"Matrix: \", n, \" x \", m)"
   ]
  },
  {
   "cell_type": "code",
   "execution_count": 37,
   "metadata": {},
   "outputs": [],
   "source": [
    "# show the first picture of the first 36 persons together in a 6x6 matrix\n",
    "allPersons = np.zeros((n*6,m*6))\n",
    "count = 0\n",
    "\n",
    "for j in range(6):\n",
    "    for k in range(6):\n",
    "        allPersons[j*n : (j+1)*n, k*m : (k+1)*m] = np.reshape(faces[:,np.sum(nfaces[:count])],(m,n)).T\n",
    "        count += 1\n",
    "        \n",
    "img = plt.imshow(allPersons)\n",
    "img.set_cmap('gray')\n",
    "plt.axis('off')\n",
    "plt.show()      "
   ]
  },
  {
   "cell_type": "code",
   "execution_count": 38,
   "metadata": {},
   "outputs": [],
   "source": [
    "# show first face of person number 37\n",
    "testperson = np.reshape(faces[:,np.sum(nfaces[:36])],(m,n)).T\n",
    "img = plt.imshow(testperson)\n",
    "img.set_cmap('gray')\n",
    "plt.axis('off')\n",
    "plt.show()"
   ]
  },
  {
   "cell_type": "code",
   "execution_count": 39,
   "metadata": {},
   "outputs": [],
   "source": [
    "# Show the first face from each of the 38 persons \n",
    "for person in range(len(nfaces)):\n",
    "    subset = faces[:,sum(nfaces[:person]) : sum(nfaces[:(person+1)])]\n",
    "    oneFace = np.zeros((n, m))\n",
    "    \n",
    "    count = 0\n",
    "    \n",
    "    if count < nfaces[person]:\n",
    "        oneFace = np.reshape(subset[:,count],(m,n)).T\n",
    "        count += 1            \n",
    "        nr = person + 1\n",
    "        title = \"Face-\" + str(nr) + \"-0\" + str(count)\n",
    "        img = plt.imshow(oneFace)\n",
    "        img.set_cmap('gray')\n",
    "        plt.axis('off')\n",
    "        plt.title(title)\n",
    "        plt.show()"
   ]
  },
  {
   "cell_type": "code",
   "execution_count": 40,
   "metadata": {},
   "outputs": [],
   "source": [
    "# show all the faces from the dataset in a single picture\n",
    "for person in range(len(nfaces)):\n",
    "    subset = faces[:,sum(nfaces[:person]) : sum(nfaces[:(person+1)])]\n",
    "    oneFace = np.zeros((n, m))\n",
    "    \n",
    "    count = 0\n",
    "    \n",
    "    for j in range(8):\n",
    "        for k in range(8):\n",
    "            if count < nfaces[person]:\n",
    "                oneFace = np.reshape(subset[:,count],(m,n)).T\n",
    "                count += 1\n",
    "                \n",
    "                nr = person + 1\n",
    "                if count < 10:\n",
    "                    title = \"Face-\" + str(nr) + \"-0\" + str(count)\n",
    "                else:\n",
    "                    title = \"Face-\" + str(nr) + \"-\" + str(count)\n",
    "                \n",
    "                img = plt.imshow(oneFace)\n",
    "                img.set_cmap('gray')\n",
    "                plt.axis('off')\n",
    "                plt.title(title)\n",
    "                plt.show()                \n",
    "               \n",
    "                # in order to write all the faces (2410 pictures) into the \"./Faces\"-directory uncomment the following two lines\n",
    "                #name = \"./Faces/\" + title + \".jpg\"\n",
    "                #imageio.imwrite(name, oneFace)"
   ]
  },
  {
   "cell_type": "code",
   "execution_count": null,
   "metadata": {},
   "outputs": [],
   "source": []
  }
 ],
 "metadata": {
  "kernelspec": {
   "display_name": "Python 3",
   "language": "python",
   "name": "python3"
  },
  "language_info": {
   "codemirror_mode": {
    "name": "ipython",
    "version": 3
   },
   "file_extension": ".py",
   "mimetype": "text/x-python",
   "name": "python",
   "nbconvert_exporter": "python",
   "pygments_lexer": "ipython3",
   "version": "3.8.6"
  }
 },
 "nbformat": 4,
 "nbformat_minor": 4
}
